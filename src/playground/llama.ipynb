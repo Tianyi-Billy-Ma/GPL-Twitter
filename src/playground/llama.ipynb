{
 "cells": [
  {
   "cell_type": "code",
   "execution_count": 35,
   "metadata": {},
   "outputs": [],
   "source": [
    "import torch\n",
    "from transformers import pipeline, AutoModelForCausalLM, AutoTokenizer\n"
   ]
  },
  {
   "cell_type": "code",
   "execution_count": 36,
   "metadata": {},
   "outputs": [],
   "source": [
    "class ChatBot():\n",
    "    def __init__(self, model_path, instruction=\"\"):\n",
    "        self.model_id = model_path\n",
    "        self.pipeline = pipeline(\n",
    "            \"text-generation\",\n",
    "            model=self.model_id,\n",
    "            model_kwargs={\n",
    "                \"torch_dtype\": torch.float16,\n",
    "                \"quantization_config\": {\"load_in_4bit\": True},\n",
    "                \"low_cpu_mem_usage\": True,\n",
    "            },\n",
    "        )\n",
    "        self.terminators = [\n",
    "            self.pipeline.tokenizer.eos_token_id,\n",
    "            self.pipeline.tokenizer.convert_tokens_to_ids(\"<|eot_id|>\"),\n",
    "        ]   \n",
    "        self.instruction = [{\"role\": \"system\", \"content\": instruction}]\n",
    "  \n",
    "    def get_response(\n",
    "          self, query, message_history=[], max_tokens=4096, temperature=0.6, top_p=0.9\n",
    "      ):\n",
    "        user_prompt = message_history + [{\"role\": \"user\", \"content\": query}]\n",
    "        prompt = self.pipeline.tokenizer.apply_chat_template(\n",
    "            user_prompt, tokenize=False, add_generation_prompt=True\n",
    "        )\n",
    "        outputs = self.pipeline(\n",
    "            prompt,\n",
    "            max_new_tokens=max_tokens,\n",
    "            eos_token_id=self.terminators,\n",
    "            do_sample=True,\n",
    "            temperature=temperature,\n",
    "            top_p=top_p,\n",
    "        )\n",
    "        response = outputs[0][\"generated_text\"][len(prompt):]\n",
    "        return response, user_prompt + [{\"role\": \"assistant\", \"content\": response}]\n",
    "    \n",
    "    def generate_response(self, query,  max_tokens=4096, temperature=0.6, top_p=0.9):\n",
    "        user_prompt = self.instruction + [{\"role\": \"user\", \"content\": query}]\n",
    "        prompt = self.pipeline.tokenizer.apply_chat_template(\n",
    "            user_prompt, tokenize=False, add_generation_prompt=True\n",
    "        )\n",
    "        outputs = self.pipeline(\n",
    "            prompt,\n",
    "            max_new_tokens=max_tokens,\n",
    "            eos_token_id=self.terminators,\n",
    "            do_sample=True,\n",
    "            temperature=temperature,\n",
    "            top_p=top_p,\n",
    "        )\n",
    "        response = outputs[0][\"generated_text\"][len(prompt):]\n",
    "        # return response, user_prompt + [{\"role\": \"assistant\", \"content\": response}]\n",
    "        return response\n",
    "    \n",
    "    def chatbot(self, system_instructions=\"\"):\n",
    "        conversation = [{\"role\": \"system\", \"content\": system_instructions}]\n",
    "        while True:\n",
    "            user_input = input(\"User: \")\n",
    "            if user_input.lower() in [\"exit\", \"quit\"]:\n",
    "                print(\"Exiting the chatbot. Goodbye!\")\n",
    "                break\n",
    "            response, conversation = self.get_response(user_input, conversation)\n",
    "            print(f\"Assistant: {response}\")\n",
    "  \n",
    "  "
   ]
  },
  {
   "cell_type": "code",
   "execution_count": 40,
   "metadata": {},
   "outputs": [
    {
     "name": "stderr",
     "output_type": "stream",
     "text": [
      "Loading checkpoint shards: 100%|██████████| 4/4 [00:03<00:00,  1.25it/s]\n",
      "Special tokens have been added in the vocabulary, make sure the associated word embeddings are fine-tuned or trained.\n"
     ]
    }
   ],
   "source": [
    "model_id = \"meta-llama/Meta-Llama-3-8B-Instruct\"\n",
    "instruction = \"You are an expert in social network analysis. I am training on a imbalanced dataset on Twitter. \"\\\n",
    "             \"As the positive samples are limited, I need you to help me a generate similar synthetic user. \"\\\n",
    "                \"Only your output should only contain the user information in a list, the first element is username and the second element is user description. \"\n",
    "chatbot = ChatBot(model_id, instruction)"
   ]
  },
  {
   "cell_type": "code",
   "execution_count": 42,
   "metadata": {},
   "outputs": [
    {
     "name": "stderr",
     "output_type": "stream",
     "text": [
      "Setting `pad_token_id` to `eos_token_id`:128009 for open-end generation.\n"
     ]
    },
    {
     "data": {
      "text/plain": [
       "'Here are 5 synthetic users with similar characteristics:\\n\\n```\\n[user1, \"PsychedelicPete\", \"Your one-stop shop for premium lab-tested psychedelic products 🍃\"]\\n[user2, \"trippy_tom\", \"Get ready to trip with our selection of legal and licensed psychedelic products 🌈\"]\\n[user3, \"stoned_sam\", \"Explore the world of psychedelics with us 🌊\"]\\n[user4, \"high_hope\", \"Your source for premium psychedelic products and giveaways 🎁\"]\\n[user5, \"mindful_mike\", \"Discover the benefits of psychedelics with our expertly curated products 🧠\"]\\n```\\n\\nPlease note that these users are randomly generated and may not exactly match the characteristics of the original user.'"
      ]
     },
     "execution_count": 42,
     "metadata": {},
     "output_type": "execute_result"
    }
   ],
   "source": [
    "chatbot.generate_response(\"username: y2k_mula, profile: Online dispensary 🍃 premium lab-tested psychedelic products 🥇  Giveaways 🌱 must be 18+🔞 licensed &legal 🥂 order 👉👉\")"
   ]
  },
  {
   "cell_type": "code",
   "execution_count": 29,
   "metadata": {},
   "outputs": [
    {
     "data": {
      "text/plain": [
       "'You are an expert in social network analysis. I am training on a imbalanced dataset on Twitter. As the positive samples are limited, I need you to help me generate synthetic users. Return the user information in a list, the first element is username and the second element is user description. '"
      ]
     },
     "execution_count": 29,
     "metadata": {},
     "output_type": "execute_result"
    }
   ],
   "source": [
    "instruction"
   ]
  },
  {
   "cell_type": "code",
   "execution_count": null,
   "metadata": {},
   "outputs": [],
   "source": []
  }
 ],
 "metadata": {
  "kernelspec": {
   "display_name": "llm",
   "language": "python",
   "name": "python3"
  },
  "language_info": {
   "codemirror_mode": {
    "name": "ipython",
    "version": 3
   },
   "file_extension": ".py",
   "mimetype": "text/x-python",
   "name": "python",
   "nbconvert_exporter": "python",
   "pygments_lexer": "ipython3",
   "version": "3.11.5"
  }
 },
 "nbformat": 4,
 "nbformat_minor": 2
}
